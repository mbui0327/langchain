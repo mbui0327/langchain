{
 "cells": [
  {
   "cell_type": "markdown",
   "id": "0c3f1df8",
   "metadata": {},
   "source": [
    "# LLM Plus PAL\n",
    "This notebook showcases the LLM plus PAL agent."
   ]
  },
  {
   "cell_type": "code",
   "execution_count": 5,
   "id": "7e3b513e",
   "metadata": {},
   "outputs": [
    {
     "name": "stdout",
     "output_type": "stream",
     "text": [
      "The autoreload extension is already loaded. To reload it, use:\n",
      "  %reload_ext autoreload\n",
      "\n",
      "\n",
      "\u001b[1m> Entering new LLMPlusPalChain chain...\u001b[0m\n",
      "if the word SATA is written on top the word BALF, the word LANT is written under the word BALF, then the word GFAT is written under the word LANT, then which word is formed diagonally. \n",
      "\u001b[32;1m\u001b[1;3mFollow up with PAL: If the word SATA is written on top the word BALF, the word LANT is written under the word BALF, then the word GFAT is written under the word LANT, then which word is formed diagonally?\u001b[0m\n",
      "\n",
      "\u001b[1m> Entering new PALChain chain...\u001b[0m\n",
      "\u001b[32;1m\u001b[1;3mdef solution():\n",
      "    \"\"\"If the word SATA is written on top the word BALF, the word LANT is written under the word BALF, then the word GFAT is written under the word LANT, then which word is formed diagonally?\"\"\"\n",
      "    word_1 = \"SATA\"\n",
      "    word_2 = \"BALF\"\n",
      "    word_3 = \"LANT\"\n",
      "    word_4 = \"GFAT\"\n",
      "    diagonal_word = word_1[0] + word_2[1] + word_3[2] + word_4[3]\n",
      "    result = diagonal_word\n",
      "    return result\u001b[0m\n",
      "\n",
      "\u001b[1m> Finished PALChain chain.\u001b[0m\n",
      "\n",
      "PAL return: \u001b[36;1m\u001b[1;3mSANT\u001b[0m\n",
      "\u001b[32;1m\u001b[1;3mSo the final answer is: SANT\u001b[0m\n",
      "\u001b[1m> Finished LLMPlusPalChain chain.\u001b[0m\n"
     ]
    },
    {
     "data": {
      "text/plain": [
       "' SANT'"
      ]
     },
     "execution_count": 5,
     "metadata": {},
     "output_type": "execute_result"
    }
   ],
   "source": [
    "import os\n",
    "import sys\n",
    "\n",
    "from langchain.agents.llm_plus_pal.base import LLMPlusPalChain\n",
    "from langchain import OpenAI\n",
    "\n",
    "llm = OpenAI(model_name='text-davinci-003', temperature=0, max_tokens=512)\n",
    "\n",
    "llm_plus_pal = LLMPlusPalChain(llm, verbose=True)\n",
    "\n",
    "llm_plus_pal.run(\n",
    "#    \"A room of chickens and cows has 48 heads and 152 legs, each chicken has 2 legs and each cow has 4 legs, how many chickens and cows are in the room?\"\n",
    "   \"if the word SATA is written on top the word BALF, the word LANT is written under the word BALF, then the word GFAT is written under the word LANT, then which word is formed diagonally. \"\n",
    "    # \"who is the current president of Peru?\"\n",
    ")\n"
   ]
  }
 ],
 "metadata": {
  "kernelspec": {
   "display_name": "Python 3.10.6 ('py39a-m1')",
   "language": "python",
   "name": "python3"
  },
  "language_info": {
   "codemirror_mode": {
    "name": "ipython",
    "version": 3
   },
   "file_extension": ".py",
   "mimetype": "text/x-python",
   "name": "python",
   "nbconvert_exporter": "python",
   "pygments_lexer": "ipython3",
   "version": "3.10.6"
  },
  "vscode": {
   "interpreter": {
    "hash": "265e5181167f1eda3f930e3650132c2303e1f632892595a752ee84105b180bbb"
   }
  }
 },
 "nbformat": 4,
 "nbformat_minor": 5
}
